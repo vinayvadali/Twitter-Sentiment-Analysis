{
  "nbformat": 4,
  "nbformat_minor": 0,
  "metadata": {
    "colab": {
      "name": "Sentiment_Analysis_Maxent.ipynb",
      "version": "0.3.2",
      "provenance": [],
      "collapsed_sections": []
    },
    "kernelspec": {
      "name": "python3",
      "display_name": "Python 3"
    }
  },
  "cells": [
    {
      "metadata": {
        "id": "EdvvY1AexJ1S",
        "colab_type": "code",
        "outputId": "f3fe81ce-5e97-4dc4-a251-4cca0a13b315",
        "colab": {
          "base_uri": "https://localhost:8080/",
          "height": 34
        }
      },
      "cell_type": "code",
      "source": [
        "from google.colab import drive\n",
        "drive.mount('/content/drive')"
      ],
      "execution_count": 1,
      "outputs": [
        {
          "output_type": "stream",
          "text": [
            "Drive already mounted at /content/drive; to attempt to forcibly remount, call drive.mount(\"/content/drive\", force_remount=True).\n"
          ],
          "name": "stdout"
        }
      ]
    },
    {
      "metadata": {
        "id": "GuTKq3VMxt2C",
        "colab_type": "code",
        "outputId": "ccd15a05-8159-4715-dcb3-88471e56f0a2",
        "colab": {
          "base_uri": "https://localhost:8080/",
          "height": 52
        }
      },
      "cell_type": "code",
      "source": [
        "from __future__ import division\n",
        "import sklearn\n",
        "import matplotlib.pyplot as plt\n",
        "import pandas as pd\n",
        "from sklearn.model_selection import train_test_split\n",
        "import numpy as np\n",
        "import re\n",
        "import nltk\n",
        "nltk.download('stopwords')\n",
        "from nltk.corpus import stopwords\n",
        "from nltk.classify import MaxentClassifier\n",
        "from sklearn.metrics import precision_recall_fscore_support\n",
        "from nltk.classify.util import accuracy\n",
        "import collections"
      ],
      "execution_count": 27,
      "outputs": [
        {
          "output_type": "stream",
          "text": [
            "[nltk_data] Downloading package stopwords to /root/nltk_data...\n",
            "[nltk_data]   Package stopwords is already up-to-date!\n"
          ],
          "name": "stdout"
        }
      ]
    },
    {
      "metadata": {
        "id": "dlx4pfpOx2Zd",
        "colab_type": "code",
        "colab": {}
      },
      "cell_type": "code",
      "source": [
        "Tweet=pd.read_csv(r'/content/drive/My Drive/Airline-Sentiment-data-set.csv',sep=',',encoding ='Latin-1')"
      ],
      "execution_count": 0,
      "outputs": []
    },
    {
      "metadata": {
        "id": "fJoDntEGyFmx",
        "colab_type": "code",
        "colab": {}
      },
      "cell_type": "code",
      "source": [
        "del Tweet['tweet_coord']\n",
        "del Tweet['airline_sentiment_gold']\n",
        "del Tweet['negativereason_gold']"
      ],
      "execution_count": 0,
      "outputs": []
    },
    {
      "metadata": {
        "id": "sWJqYtTcs4HB",
        "colab_type": "code",
        "colab": {}
      },
      "cell_type": "code",
      "source": [
        "trainData=[]\n",
        "testData=[]\n",
        "trainLabel=[]\n",
        "testLabel=[]\n",
        "\n"
      ],
      "execution_count": 0,
      "outputs": []
    },
    {
      "metadata": {
        "id": "kwtklVQZ9upG",
        "colab_type": "text"
      },
      "cell_type": "markdown",
      "source": [
        "**Returns number of words **"
      ]
    },
    {
      "metadata": {
        "id": "XSlJK40jyZpp",
        "colab_type": "code",
        "colab": {}
      },
      "cell_type": "code",
      "source": [
        "def newTweetLength(unchangedTweet):\n",
        "    onlyAlphabets = re.sub(\"[^a-zA-Z0-9]\",\" \",unchangedTweet) \n",
        "    words = onlyAlphabets.lower().split()                             \n",
        "    stops = set(stopwords.words(\"english\"))                  \n",
        "    refinedWords = [w for w in words if not w in stops] \n",
        "    return(len(refinedWords))\n"
      ],
      "execution_count": 0,
      "outputs": []
    },
    {
      "metadata": {
        "id": "qPNqwx5H97oE",
        "colab_type": "text"
      },
      "cell_type": "markdown",
      "source": [
        "**Cleaning the Tweets using Unigram**"
      ]
    },
    {
      "metadata": {
        "id": "sTbdlZ-Fyda3",
        "colab_type": "code",
        "colab": {}
      },
      "cell_type": "code",
      "source": [
        "def convertToWords(unchangedTweet):\n",
        "    onlyAlphabets = re.sub(\"[^a-zA-Z0-9]\", \" \",unchangedTweet) \n",
        "    words = onlyAlphabets.lower().split()                             \n",
        "    stops = set(stopwords.words(\"english\"))                  \n",
        "    refinedWords = [w for w in words if not w in stops]\n",
        "    return str(refinedWords) \n"
      ],
      "execution_count": 0,
      "outputs": []
    },
    {
      "metadata": {
        "id": "nROJ0NtJOVGk",
        "colab_type": "text"
      },
      "cell_type": "markdown",
      "source": [
        "**Cleaning the Tweets using Bigram **"
      ]
    },
    {
      "metadata": {
        "id": "JFIo67oiN90q",
        "colab_type": "code",
        "colab": {}
      },
      "cell_type": "code",
      "source": [
        "'''def convertToWords(unchangedTweet):\n",
        "    onlyAlphabets = re.sub(\"[^a-zA-Z0-9]\", \" \",unchangedTweet) \n",
        "    words = onlyAlphabets.lower().split()                             \n",
        "    stops = set(stopwords.words(\"english\"))                  \n",
        "    refinedWords = [w for w in words if not w in stops]\n",
        "    bigramFeatureVector=[]\n",
        "    for item in nltk.bigrams(refinedWords):\n",
        "        bigramFeatureVector.append(' '.join(item))\n",
        "    return str(bigramFeatureVector) '''"
      ],
      "execution_count": 0,
      "outputs": []
    },
    {
      "metadata": {
        "id": "q1AEoMiFPBAD",
        "colab_type": "text"
      },
      "cell_type": "markdown",
      "source": [
        "**Cleaning the Tweets using Trigram**"
      ]
    },
    {
      "metadata": {
        "id": "uTFF1UsyN-g2",
        "colab_type": "code",
        "colab": {}
      },
      "cell_type": "code",
      "source": [
        "'''def convertToWords(unchangedTweet):\n",
        "    onlyAlphabets = re.sub(\"[^a-zA-Z0-9]\", \" \",unchangedTweet) \n",
        "    words = onlyAlphabets.lower().split()                             \n",
        "    stops = set(stopwords.words(\"english\"))                  \n",
        "    refinedWords = [w for w in words if not w in stops]\n",
        "    trigramFeatureVector=[]\n",
        "    for item in nltk.trigrams(refinedWords):\n",
        "        trigramFeatureVector.append(' '.join(item))\n",
        "    return str(trigramFeatureVector) '''"
      ],
      "execution_count": 0,
      "outputs": []
    },
    {
      "metadata": {
        "id": "GrIV-3yzyh1W",
        "colab_type": "code",
        "colab": {}
      },
      "cell_type": "code",
      "source": [
        "Tweet['label']=Tweet['airline_sentiment'].apply(lambda x: 0 if x=='negative'else 1)\n",
        "label=Tweet['label'].tolist()\n",
        "Tweet=Tweet.drop('airline_sentiment',axis=1)\n"
      ],
      "execution_count": 0,
      "outputs": []
    },
    {
      "metadata": {
        "id": "L21JXJsC-CK2",
        "colab_type": "text"
      },
      "cell_type": "markdown",
      "source": [
        "**Parsing through Dataset and creating Dictonary**"
      ]
    },
    {
      "metadata": {
        "id": "bZrqyexLy0eY",
        "colab_type": "code",
        "colab": {}
      },
      "cell_type": "code",
      "source": [
        "def parse(dataset1):\n",
        "  return(dataset1[11])\n",
        "\n",
        "r,c=Tweet.shape\n",
        "dataset=list(Tweet.values)\n",
        "\n",
        "data_list=[]\n",
        "for i in range(r):\n",
        "  data={}\n",
        "  id12=parse(dataset[i])\n",
        "      \n",
        "  proc_data=convertToWords(f'{id12}')\n",
        "                           \n",
        "  len_data=newTweetLength(f'{id12}')\n",
        "                          \n",
        "  if proc_data not in data:\n",
        "    data[proc_data]=len_data\n",
        "    data_list.append(data)\n"
      ],
      "execution_count": 0,
      "outputs": []
    },
    {
      "metadata": {
        "id": "QVzIjc7MCOfh",
        "colab_type": "text"
      },
      "cell_type": "markdown",
      "source": [
        "**Splitting the dataset**"
      ]
    },
    {
      "metadata": {
        "id": "DG8nU-Z6sIL1",
        "colab_type": "code",
        "colab": {}
      },
      "cell_type": "code",
      "source": [
        "def splitData(percentage):\n",
        "    dataSamples = len(data_list)\n",
        "    halfOfData = int(len(data_list)/2)\n",
        "    trainingSamples = int((percentage*dataSamples)/2)\n",
        "    \n",
        "    for (Text) in data_list[:trainingSamples] + data_list[halfOfData:halfOfData+trainingSamples]:\n",
        "        trainData.append(Text)\n",
        "        \n",
        "    for (t) in label[:trainingSamples] + label[halfOfData:halfOfData+trainingSamples]:\n",
        "        trainLabel.append(str(t))\n",
        "        \n",
        "    for (Text) in data_list[trainingSamples:halfOfData] + data_list[halfOfData+trainingSamples:]:\n",
        "        testData.append(Text)\n",
        "        \n",
        "    for (t) in label[trainingSamples:halfOfData] + label[halfOfData+trainingSamples:]:\n",
        "        testLabel.append(str(t))"
      ],
      "execution_count": 0,
      "outputs": []
    },
    {
      "metadata": {
        "id": "YDPaIIyVDbDD",
        "colab_type": "text"
      },
      "cell_type": "markdown",
      "source": [
        "**Testing function**"
      ]
    },
    {
      "metadata": {
        "id": "VjwZBo5Spval",
        "colab_type": "code",
        "colab": {}
      },
      "cell_type": "code",
      "source": [
        "def predictLabels(inputs,classifier):\n",
        "  return classifier.classify_many(map(lambda t: t[0],inputs))"
      ],
      "execution_count": 0,
      "outputs": []
    },
    {
      "metadata": {
        "id": "TsCylDJ_0DZi",
        "colab_type": "code",
        "colab": {}
      },
      "cell_type": "code",
      "source": [
        "splitData(0.80)"
      ],
      "execution_count": 0,
      "outputs": []
    },
    {
      "metadata": {
        "id": "CFj6aHdlDgoj",
        "colab_type": "text"
      },
      "cell_type": "markdown",
      "source": [
        "**Joining Dictonary dataset with its Label**"
      ]
    },
    {
      "metadata": {
        "id": "EqbvJdEg0bKB",
        "colab_type": "code",
        "colab": {}
      },
      "cell_type": "code",
      "source": [
        "train_data=[]\n",
        "test_data=[]\n",
        "train_data=np.c_[trainData,trainLabel]\n",
        "test_data=np.c_[testData,testLabel]\n"
      ],
      "execution_count": 0,
      "outputs": []
    },
    {
      "metadata": {
        "id": "6TZlw3eAEi9S",
        "colab_type": "text"
      },
      "cell_type": "markdown",
      "source": [
        "**Training the classifier**"
      ]
    },
    {
      "metadata": {
        "id": "SjSbNf6d0ky_",
        "colab_type": "code",
        "outputId": "04d971aa-4996-43cf-dfdf-397614ab8169",
        "colab": {
          "base_uri": "https://localhost:8080/",
          "height": 194
        }
      },
      "cell_type": "code",
      "source": [
        "classifier = MaxentClassifier.train(train_data, 'GIS', gaussian_prior_sigma=0, max_iter = 3)\n",
        "\n",
        "y_pred=predictLabels(test_data,classifier)\n",
        "(p,r,f,_)=precision_recall_fscore_support(list(map(lambda d: d[1],test_data)),y_pred,average='macro')\n",
        "\n",
        "\n",
        "print(p)\n",
        "print(r)\n",
        "print(f)\n",
        "\n"
      ],
      "execution_count": 22,
      "outputs": [
        {
          "output_type": "stream",
          "text": [
            "  ==> Training (3 iterations)\n",
            "\n",
            "      Iteration    Log Likelihood    Accuracy\n",
            "      ---------------------------------------\n",
            "             1          -0.69315        0.363\n",
            "             2          -0.69312        0.999\n",
            "         Final          -0.69309        0.999\n",
            "0.7378184391427416\n",
            "0.6298701298701299\n",
            "0.5285120724566339\n"
          ],
          "name": "stdout"
        }
      ]
    },
    {
      "metadata": {
        "id": "8_GCI8FnEn2m",
        "colab_type": "text"
      },
      "cell_type": "markdown",
      "source": [
        "**Calculating the accuracy**"
      ]
    },
    {
      "metadata": {
        "id": "3NtaEmXI0toE",
        "colab_type": "code",
        "outputId": "6f4ba4e6-cd23-4e7d-c43e-001794d21352",
        "colab": {
          "base_uri": "https://localhost:8080/",
          "height": 34
        }
      },
      "cell_type": "code",
      "source": [
        "accuracy = nltk.classify.util.accuracy(classifier, test_data)\n",
        "print(accuracy)"
      ],
      "execution_count": 23,
      "outputs": [
        {
          "output_type": "stream",
          "text": [
            "0.5571209016393442\n"
          ],
          "name": "stdout"
        }
      ]
    },
    {
      "metadata": {
        "id": "-Th9RUxnLbaQ",
        "colab_type": "code",
        "colab": {}
      },
      "cell_type": "code",
      "source": [
        "Test_result=[accuracy,p,r,f]\n"
      ],
      "execution_count": 0,
      "outputs": []
    },
    {
      "metadata": {
        "id": "gm1jAxWqL9VN",
        "colab_type": "text"
      },
      "cell_type": "markdown",
      "source": [
        "**Plotting the result**"
      ]
    },
    {
      "metadata": {
        "id": "VWsqYyDX7Gon",
        "colab_type": "code",
        "colab": {
          "base_uri": "https://localhost:8080/",
          "height": 282
        },
        "outputId": "b65cca1e-84df-4d0b-8868-4c945b4b7897"
      },
      "cell_type": "code",
      "source": [
        "objects = ('Accuracy', 'Precision', 'Recall', 'F1_score')\n",
        "\n",
        "performance = Test_result\n",
        "bar_width=0.3\n",
        "rects1 = plt.bar(objects, performance,bar_width ,alpha=0.8,color='b',)\n",
        " \n",
        "\n",
        "plt.xticks(objects, objects)\n",
        "plt.ylabel('Score')\n",
        "plt.title('Evaluation of Test Data ')\n",
        "\n",
        "\n",
        "plt.show()"
      ],
      "execution_count": 28,
      "outputs": [
        {
          "output_type": "display_data",
          "data": {
            "image/png": "[encoded data removed]",
            "text/plain": [
              "<Figure size 432x288 with 1 Axes>"
            ]
          },
          "metadata": {
            "tags": []
          }
        }
      ]
    },
    {
      "metadata": {
        "id": "ZAbtnKOshAUj",
        "colab_type": "code",
        "colab": {}
      },
      "cell_type": "code",
      "source": [
        ""
      ],
      "execution_count": 0,
      "outputs": []
    },
    {
      "metadata": {
        "id": "L6lq3FAhmQqG",
        "colab_type": "code",
        "colab": {}
      },
      "cell_type": "code",
      "source": [
        ""
      ],
      "execution_count": 0,
      "outputs": []
    },
    {
      "metadata": {
        "id": "Fjq2Ojm5yRmH",
        "colab_type": "code",
        "colab": {}
      },
      "cell_type": "code",
      "source": [
        ""
      ],
      "execution_count": 0,
      "outputs": []
    },
    {
      "metadata": {
        "id": "pDDKh5gr9nFM",
        "colab_type": "code",
        "colab": {}
      },
      "cell_type": "code",
      "source": [
        ""
      ],
      "execution_count": 0,
      "outputs": []
    },
    {
      "metadata": {
        "id": "wY2KWZ3UysET",
        "colab_type": "code",
        "colab": {}
      },
      "cell_type": "code",
      "source": [
        ""
      ],
      "execution_count": 0,
      "outputs": []
    },
    {
      "metadata": {
        "id": "75Ps2EoBy3pJ",
        "colab_type": "code",
        "colab": {}
      },
      "cell_type": "code",
      "source": [
        ""
      ],
      "execution_count": 0,
      "outputs": []
    },
    {
      "metadata": {
        "id": "-jz4N7qLz-YA",
        "colab_type": "code",
        "colab": {}
      },
      "cell_type": "code",
      "source": [
        ""
      ],
      "execution_count": 0,
      "outputs": []
    },
    {
      "metadata": {
        "id": "TJAoo4Lu0hMl",
        "colab_type": "code",
        "colab": {}
      },
      "cell_type": "code",
      "source": [
        ""
      ],
      "execution_count": 0,
      "outputs": []
    },
    {
      "metadata": {
        "id": "-8gF5E6ODyCD",
        "colab_type": "code",
        "colab": {}
      },
      "cell_type": "code",
      "source": [
        ""
      ],
      "execution_count": 0,
      "outputs": []
    },
    {
      "metadata": {
        "id": "yZQoI8KGDkbn",
        "colab_type": "code",
        "colab": {}
      },
      "cell_type": "code",
      "source": [
        ""
      ],
      "execution_count": 0,
      "outputs": []
    }
  ]
}